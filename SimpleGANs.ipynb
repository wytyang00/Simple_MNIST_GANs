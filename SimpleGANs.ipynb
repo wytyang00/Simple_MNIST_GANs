{
 "cells": [
  {
   "cell_type": "code",
   "execution_count": 1,
   "metadata": {
    "ExecuteTime": {
     "end_time": "2019-08-13T13:42:10.247831Z",
     "start_time": "2019-08-13T13:42:09.321037Z"
    }
   },
   "outputs": [],
   "source": [
    "import torch\n",
    "import torch.nn as nn\n",
    "import torch.nn.functional as F\n",
    "import torch.optim as optim\n",
    "\n",
    "from torchvision import transforms, datasets, utils\n",
    "\n",
    "import matplotlib.pyplot as plt\n",
    "%matplotlib inline"
   ]
  },
  {
   "cell_type": "code",
   "execution_count": 2,
   "metadata": {
    "ExecuteTime": {
     "end_time": "2019-08-13T13:42:10.280470Z",
     "start_time": "2019-08-13T13:42:10.249566Z"
    }
   },
   "outputs": [],
   "source": [
    "mnist_data = datasets.MNIST(root='.', train=True, download=True,\n",
    "                            transform=transforms.Compose([transforms.ToTensor(),\n",
    "                                                          transforms.Normalize([0.5], [0.5])]))\n",
    "mnist_data_loader = torch.utils.data.DataLoader(mnist_data, batch_size=128, drop_last=True, shuffle=True)"
   ]
  },
  {
   "cell_type": "code",
   "execution_count": 3,
   "metadata": {
    "ExecuteTime": {
     "end_time": "2019-08-13T13:42:10.307398Z",
     "start_time": "2019-08-13T13:42:10.282463Z"
    }
   },
   "outputs": [],
   "source": [
    "class DiscriminatorNet(torch.nn.Module):\n",
    "    \"\"\"\n",
    "    A three hidden-layer discriminative neural network\n",
    "    \"\"\"\n",
    "    def __init__(self):\n",
    "        super(DiscriminatorNet, self).__init__()\n",
    "        n_features = 784\n",
    "        n_out = 1\n",
    "        \n",
    "        self.hidden0 = nn.Sequential( \n",
    "            nn.Linear(n_features, 1024),\n",
    "            nn.LeakyReLU(0.2),\n",
    "            nn.Dropout(0.3)\n",
    "        )\n",
    "        self.hidden1 = nn.Sequential(\n",
    "            nn.Linear(1024, 512),\n",
    "            nn.LeakyReLU(0.2),\n",
    "            nn.Dropout(0.3)\n",
    "        )\n",
    "        self.hidden2 = nn.Sequential(\n",
    "            nn.Linear(512, 256),\n",
    "            nn.LeakyReLU(0.2),\n",
    "            nn.Dropout(0.3)\n",
    "        )\n",
    "        self.out = nn.Sequential(\n",
    "            torch.nn.Linear(256, n_out),\n",
    "            torch.nn.Sigmoid()\n",
    "        )\n",
    "\n",
    "    def forward(self, x):\n",
    "        x = self.hidden0(x)\n",
    "        x = self.hidden1(x)\n",
    "        x = self.hidden2(x)\n",
    "        x = self.out(x)\n",
    "        return x\n",
    "\n",
    "discriminator = DiscriminatorNet()"
   ]
  },
  {
   "cell_type": "code",
   "execution_count": 4,
   "metadata": {
    "ExecuteTime": {
     "end_time": "2019-08-13T13:42:10.340309Z",
     "start_time": "2019-08-13T13:42:10.310390Z"
    }
   },
   "outputs": [],
   "source": [
    "class GeneratorNet(torch.nn.Module):\n",
    "    \"\"\"\n",
    "    A three hidden-layer generative neural network\n",
    "    \"\"\"\n",
    "    def __init__(self):\n",
    "        super(GeneratorNet, self).__init__()\n",
    "        n_features = 100\n",
    "        n_out = 784\n",
    "        \n",
    "        self.hidden0 = nn.Sequential(\n",
    "            nn.Linear(n_features, 256),\n",
    "            nn.LeakyReLU(0.2)\n",
    "        )\n",
    "        self.hidden1 = nn.Sequential(            \n",
    "            nn.Linear(256, 512),\n",
    "            nn.LeakyReLU(0.2)\n",
    "        )\n",
    "        self.hidden2 = nn.Sequential(\n",
    "            nn.Linear(512, 1024),\n",
    "            nn.LeakyReLU(0.2)\n",
    "        )\n",
    "        \n",
    "        self.out = nn.Sequential(\n",
    "            nn.Linear(1024, n_out),\n",
    "            nn.Tanh()\n",
    "        )\n",
    "\n",
    "    def forward(self, x):\n",
    "        x = self.hidden0(x)\n",
    "        x = self.hidden1(x)\n",
    "        x = self.hidden2(x)\n",
    "        x = self.out(x)\n",
    "        return x\n",
    "\n",
    "generator = GeneratorNet()"
   ]
  },
  {
   "cell_type": "code",
   "execution_count": 5,
   "metadata": {
    "ExecuteTime": {
     "end_time": "2019-08-13T13:42:16.466236Z",
     "start_time": "2019-08-13T13:42:16.461250Z"
    }
   },
   "outputs": [],
   "source": [
    "d_optimizer = optim.Adam(discriminator.parameters(), lr=2e-4)\n",
    "g_optimizer = optim.Adam(generator.parameters(), lr=2e-4)"
   ]
  },
  {
   "cell_type": "code",
   "execution_count": 6,
   "metadata": {
    "ExecuteTime": {
     "end_time": "2019-08-13T13:42:18.348088Z",
     "start_time": "2019-08-13T13:42:18.342080Z"
    }
   },
   "outputs": [],
   "source": [
    "def train_discriminator(discriminator, optimizer, real_data, fake_data):\n",
    "    input_data = torch.cat([real_data, fake_data], dim=0)\n",
    "    targets    = torch.cat([torch.ones(real_data.size(0), 1), torch.zeros(fake_data.size(0), 1)], dim=0)\n",
    "\n",
    "    preds = discriminator(input_data)\n",
    "\n",
    "    loss = F.binary_cross_entropy(preds, targets)\n",
    "\n",
    "    optimizer.zero_grad()\n",
    "    loss.backward()\n",
    "    optimizer.step()\n",
    "\n",
    "    return loss.item()"
   ]
  },
  {
   "cell_type": "code",
   "execution_count": 7,
   "metadata": {
    "ExecuteTime": {
     "end_time": "2019-08-13T13:42:18.606525Z",
     "start_time": "2019-08-13T13:42:18.600543Z"
    }
   },
   "outputs": [],
   "source": [
    "def train_generator(optimizer, fake_data):\n",
    "    preds = discriminator(fake_data)\n",
    "\n",
    "    loss = F.binary_cross_entropy(preds, torch.ones(fake_data.size(0), 1))\n",
    "\n",
    "    optimizer.zero_grad()\n",
    "    loss.backward()\n",
    "    optimizer.step()\n",
    "\n",
    "    return loss.item()"
   ]
  },
  {
   "cell_type": "code",
   "execution_count": 8,
   "metadata": {
    "ExecuteTime": {
     "end_time": "2019-08-13T17:31:54.240308Z",
     "start_time": "2019-08-13T13:42:19.201596Z"
    }
   },
   "outputs": [
    {
     "name": "stdout",
     "output_type": "stream",
     "text": [
      "Epoch 0\n",
      "=====================\n",
      "    Discriminator Loss: 0.574147\n",
      "    Generator Loss: 1.904955\n",
      "---------------------\n",
      "\n",
      "Epoch 9\n",
      "=====================\n",
      "    Discriminator Loss: 0.270587\n",
      "    Generator Loss: 2.500291\n",
      "---------------------\n",
      "\n",
      "Epoch 19\n",
      "=====================\n",
      "    Discriminator Loss: 0.377398\n",
      "    Generator Loss: 1.986568\n",
      "---------------------\n",
      "\n",
      "Epoch 29\n",
      "=====================\n",
      "    Discriminator Loss: 0.470961\n",
      "    Generator Loss: 1.525718\n",
      "---------------------\n",
      "\n",
      "Epoch 39\n",
      "=====================\n",
      "    Discriminator Loss: 0.509689\n",
      "    Generator Loss: 1.378818\n",
      "---------------------\n",
      "\n",
      "Epoch 49\n",
      "=====================\n",
      "    Discriminator Loss: 0.538310\n",
      "    Generator Loss: 1.253391\n",
      "---------------------\n",
      "\n",
      "Epoch 59\n",
      "=====================\n",
      "    Discriminator Loss: 0.572761\n",
      "    Generator Loss: 1.130554\n",
      "---------------------\n",
      "\n",
      "Epoch 69\n",
      "=====================\n",
      "    Discriminator Loss: 0.584078\n",
      "    Generator Loss: 1.081733\n",
      "---------------------\n",
      "\n",
      "Epoch 79\n",
      "=====================\n",
      "    Discriminator Loss: 0.597147\n",
      "    Generator Loss: 1.040017\n",
      "---------------------\n",
      "\n",
      "Epoch 89\n",
      "=====================\n",
      "    Discriminator Loss: 0.606942\n",
      "    Generator Loss: 0.994049\n",
      "---------------------\n",
      "\n",
      "Epoch 99\n",
      "=====================\n",
      "    Discriminator Loss: 0.613355\n",
      "    Generator Loss: 0.979734\n",
      "---------------------\n",
      "\n",
      "Epoch 109\n",
      "=====================\n",
      "    Discriminator Loss: 0.616557\n",
      "    Generator Loss: 0.986923\n",
      "---------------------\n",
      "\n",
      "Epoch 119\n",
      "=====================\n",
      "    Discriminator Loss: 0.624392\n",
      "    Generator Loss: 0.937582\n",
      "---------------------\n",
      "\n",
      "Epoch 129\n",
      "=====================\n",
      "    Discriminator Loss: 0.622222\n",
      "    Generator Loss: 0.947042\n",
      "---------------------\n",
      "\n",
      "Epoch 139\n",
      "=====================\n",
      "    Discriminator Loss: 0.628093\n",
      "    Generator Loss: 0.931108\n",
      "---------------------\n",
      "\n",
      "Epoch 149\n",
      "=====================\n",
      "    Discriminator Loss: 0.630347\n",
      "    Generator Loss: 0.925933\n",
      "---------------------\n",
      "\n",
      "Epoch 159\n",
      "=====================\n",
      "    Discriminator Loss: 0.633328\n",
      "    Generator Loss: 0.917195\n",
      "---------------------\n",
      "\n",
      "Epoch 169\n",
      "=====================\n",
      "    Discriminator Loss: 0.634679\n",
      "    Generator Loss: 0.915648\n",
      "---------------------\n",
      "\n",
      "Epoch 179\n",
      "=====================\n",
      "    Discriminator Loss: 0.640848\n",
      "    Generator Loss: 0.895657\n",
      "---------------------\n",
      "\n",
      "Epoch 189\n",
      "=====================\n",
      "    Discriminator Loss: 0.638471\n",
      "    Generator Loss: 0.891716\n",
      "---------------------\n",
      "\n",
      "Epoch 199\n",
      "=====================\n",
      "    Discriminator Loss: 0.643785\n",
      "    Generator Loss: 0.869200\n",
      "---------------------\n",
      "\n"
     ]
    },
    {
     "data": {
      "image/png": "[encoded data removed]",
      "text/plain": [
       "<Figure size 432x288 with 1 Axes>"
      ]
     },
     "metadata": {
      "needs_background": "light"
     },
     "output_type": "display_data"
    }
   ],
   "source": [
    "n_epochs = 200\n",
    "\n",
    "n_test_samples = 16\n",
    "test_noise = torch.randn(n_test_samples, 100)\n",
    "\n",
    "n_batches = len(mnist_data_loader)\n",
    "\n",
    "avg_d_losses = []\n",
    "avg_g_losses = []\n",
    "for i_epoch in range(n_epochs):\n",
    "    running_d_loss = 0.\n",
    "    running_g_loss = 0.\n",
    "    for n_batch, (real_batch,_) in enumerate(mnist_data_loader):\n",
    "        real_data = real_batch.view(-1, 784)\n",
    "        fake_data = generator(torch.randn(real_data.size(0), 100))\n",
    "\n",
    "        # Train D\n",
    "        running_d_loss += train_discriminator(discriminator, d_optimizer, real_data, fake_data.detach())\n",
    "\n",
    "        # Train G\n",
    "        running_g_loss += train_generator(g_optimizer, fake_data)\n",
    "\n",
    "    avg_d_losses.append(running_d_loss / n_batches)\n",
    "    avg_g_losses.append(running_g_loss / n_batches)\n",
    "\n",
    "    if i_epoch == 0 or (i_epoch + 1) % 10 == 0:\n",
    "        with torch.no_grad():\n",
    "            test_images = generator(test_noise).view(-1, 1, 28, 28)\n",
    "        utils.save_image(test_images, \"test_samples/epoch_{:d}.png\".format(i_epoch), nrow=8, normalize=True, range=(-1, 1))\n",
    "        print(\"Epoch {:d}\".format(i_epoch))\n",
    "        print(\"=====================\")\n",
    "        print(\"    Discriminator Loss: {:f}\".format(avg_d_losses[-1]))\n",
    "        print(\"    Generator Loss: {:f}\".format(avg_g_losses[-1]))\n",
    "        print(\"---------------------\")\n",
    "        print()\n",
    "\n",
    "plt.imshow(utils.make_grid(test_images, nrow=8, normalize=True, range=(-1, 1)).permute(1, 2, 0));"
   ]
  },
  {
   "cell_type": "markdown",
   "metadata": {},
   "source": [
    "---"
   ]
  }
 ],
 "metadata": {
  "kernelspec": {
   "display_name": "Python 3",
   "language": "python",
   "name": "python3"
  },
  "language_info": {
   "codemirror_mode": {
    "name": "ipython",
    "version": 3
   },
   "file_extension": ".py",
   "mimetype": "text/x-python",
   "name": "python",
   "nbconvert_exporter": "python",
   "pygments_lexer": "ipython3",
   "version": "3.7.3"
  },
  "toc": {
   "base_numbering": 1,
   "nav_menu": {},
   "number_sections": true,
   "sideBar": true,
   "skip_h1_title": false,
   "title_cell": "Table of Contents",
   "title_sidebar": "Contents",
   "toc_cell": false,
   "toc_position": {},
   "toc_section_display": true,
   "toc_window_display": false
  }
 },
 "nbformat": 4,
 "nbformat_minor": 2
}
